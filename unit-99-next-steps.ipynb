{
 "cells": [
  {
   "cell_type": "markdown",
   "metadata": {},
   "source": [
    "# Next Steps\n",
    "\n",
    "<iframe src=\"https://giphy.com/embed/1oXyOiFpGMMc9Hzvz5\" width=\"480\" height=\"480\" style=\"\" frameBorder=\"0\" class=\"giphy-embed\" allowFullScreen></iframe><p><a href=\"https://giphy.com/gifs/colors-tubes-incandescent-1oXyOiFpGMMc9Hzvz5\">via GIPHY</a></p>"
   ]
  },
  {
   "cell_type": "markdown",
   "metadata": {},
   "source": [
    "Classical Models to try:\n",
    "- Decision Trees\n",
    "- Random Forest\n",
    "- PCA (digging deeper)\n",
    "- Naive Bayes\n",
    "\n",
    "Neural Networks to Try:\n",
    "- Long Short Term Memory (LSTM)\n",
    "- Generative and Adversarial Networks (GANS)\n",
    "- Variable Auto Encoders\n",
    "- Transformer Models\n",
    "\n",
    "And more!"
   ]
  },
  {
   "cell_type": "markdown",
   "metadata": {},
   "source": [
    "Machine Learning Concepts\n",
    "- Bias - overfitting \n",
    "- Normalization - constraining weights\n",
    "- Momentum - resist sharp turns when moving down the loss plot\n",
    "- Different Gradient Descent Algos\n",
    "- Learning Rate - how fast we move down the loss plot\n",
    "- Bagging - reduce variance\n",
    "- Dropout - weight generalization (freezing and unfreezing neurons while training)\n",
    "- Max Pooling - averaging between layers\n",
    "- Boosting - reduce bias\n",
    "- Data Augmentation Techniques\n",
    "- Exploring the variety of error functions\n",
    "- Dig Deeper into Convolution + Fourier Transforms\n",
    "- The math behind back propagation\n",
    "- The affects of different activation functions \n"
   ]
  },
  {
   "cell_type": "markdown",
   "metadata": {},
   "source": [
    "Classes that you can take to learn more!\n",
    "\n",
    "ECE/CSC 514 - Neural Networks\n",
    "\n",
    "CSC 549 - Embedded/Real-Time Systems for Autonomous Driving with Machine Learning\n",
    "\n",
    "ECE 411 - Introduction to Machine Learning\n",
    "\n",
    "CSC 411 - Introduction to Artificial Intelligence \n",
    "\n",
    "CSC 520 - Artificial Intelligence 1\n",
    "\n",
    "CSC 720 - Artificial Intelligence 2\n",
    "\n",
    "MBA 558 - Artificial Intelligence in Management\n",
    "\n",
    "DSA 220 - Introduction to AI Ethics\n",
    "\n",
    "STS 438 - Responsible Artificial Intelligence in Society\n",
    "\n",
    "GN 428 - Introduction to Machine Learning in Biology\n",
    "\n",
    "AEC 510 - Machine Learning Approaches in Biological Sciences\n",
    "\n",
    "In classes where you have projects and freedom to choose, you can incorporate AI/ML into it. This can be through commentary, code, or research!\n"
   ]
  }
 ],
 "metadata": {
  "kernelspec": {
   "display_name": "Python 3",
   "language": "python",
   "name": "python3"
  },
  "language_info": {
   "name": "python",
   "version": "3.12.5"
  }
 },
 "nbformat": 4,
 "nbformat_minor": 2
}
